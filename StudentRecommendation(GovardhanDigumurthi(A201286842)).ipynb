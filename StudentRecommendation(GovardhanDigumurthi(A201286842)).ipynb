{
  "nbformat": 4,
  "nbformat_minor": 0,
  "metadata": {
    "kernelspec": {
      "display_name": "Python 3",
      "language": "python",
      "name": "python3"
    },
    "language_info": {
      "codemirror_mode": {
        "name": "ipython",
        "version": 3
      },
      "file_extension": ".py",
      "mimetype": "text/x-python",
      "name": "python",
      "nbconvert_exporter": "python",
      "pygments_lexer": "ipython3",
      "version": "3.7.4"
    },
    "colab": {
      "provenance": []
    }
  },
  "cells": [
    {
      "cell_type": "markdown",
      "metadata": {
        "id": "Fm6VvIEH7fV9"
      },
      "source": [
        "# CS 5683 - Big Data Analytics\n",
        "##  Friend Recommendation"
      ]
    },
    {
      "cell_type": "code",
      "metadata": {
        "id": "QS6N_WQs7fV-"
      },
      "source": [
        "import itertools"
      ],
      "execution_count": null,
      "outputs": []
    },
    {
      "cell_type": "markdown",
      "metadata": {
        "id": "JjgYuc2v7fWA"
      },
      "source": [
        "### Assignment Total: 10 points (3% of final)"
      ]
    },
    {
      "cell_type": "markdown",
      "metadata": {
        "id": "szEIhC0q7fWB"
      },
      "source": [
        "In this assignment we will create a simple recommender engine that recommend friends based on number of mutual friends"
      ]
    },
    {
      "cell_type": "code",
      "metadata": {
        "id": "JE-66ya07fWB",
        "outputId": "a9471346-21b3-4f06-fcef-e80c3c6ef505",
        "colab": {
          "base_uri": "https://localhost:8080/",
          "height": 34
        }
      },
      "source": [
        "from google.colab import drive\n",
        "drive.mount('/content/gdrive')"
      ],
      "execution_count": null,
      "outputs": [
        {
          "output_type": "stream",
          "text": [
            "Drive already mounted at /content/gdrive; to attempt to forcibly remount, call drive.mount(\"/content/gdrive\", force_remount=True).\n"
          ],
          "name": "stdout"
        }
      ]
    },
    {
      "cell_type": "markdown",
      "metadata": {
        "id": "41_RdF0n7fWG"
      },
      "source": [
        "##### Comsider the following list as a simple matrix 'M' for all tasks of this assignment"
      ]
    },
    {
      "cell_type": "code",
      "metadata": {
        "id": "x-rmyoYo7fWG"
      },
      "source": [
        "input_data = '/content/gdrive/My Drive/CS5683/soc-LiveJournal1Adj.txt'"
      ],
      "execution_count": null,
      "outputs": []
    },
    {
      "cell_type": "code",
      "metadata": {
        "id": "hrVOZmjX7fWI"
      },
      "source": [
        "direct_friends = dict() # Stores directly connected friends\n",
        "\n",
        "# friend_recommendations stores user recommendations\n",
        "# It should be of type dict[dict]\n",
        "# Example-1:\n",
        "    # friend_recommendations[100][125] = 1\n",
        "    # -- meaning that users 100 and 125 have 1 mutual friend\n",
        "    # In other words, 1 user has 100 and 125 as direct friends\n",
        "# Example-2:\n",
        "    # friend_recommendations[100][146] = 4\n",
        "    # -- meaning that users 100 and 125 have 4 mutual friends\n",
        "    # In other words, 4 users have 100 and 146 as direct friends\n",
        "friend_recommendations = dict()\n",
        "\n",
        "fp = open(input_data,'r')\n",
        "\n",
        "# Iterate through the data once and fill direct_friends and friend_recommendations\n",
        "for line in fp:\n",
        "    line_split = line.split()\n",
        "\n",
        "    if len(line_split) == 2:\n",
        "        #user = int(line_split[0])\n",
        "        #friends = map(int, set(line_split[1].split(',')))\n",
        "        #direct_friends[user] = friends\n",
        "        user = int(line_split[0])\n",
        "        friends = list(map(int, line_split[1].split(','))) # You can convert this into set, if necessary\n",
        "        direct_friends[user] = friends\n",
        "\n",
        "        # Generate user pairs to identify friend recommendation\n",
        "        recommendations = list(itertools.permutations(friends,2))\n",
        "        #print(recommendations)\n",
        "        # Fill friend_recommendations below (3 POINTS)\n",
        "        for i in recommendations:\n",
        "          if i[0] not in friend_recommendations:\n",
        "            friend_recommendations[i[0]] = {i[1]:1}\n",
        "          else:\n",
        "            if i[1] not in friend_recommendations[i[0]]:\n",
        "              friend_recommendations[i[0]][i[1]] = 1\n",
        "            else:\n",
        "              friend_recommendations[i[0]][i[1]] = friend_recommendations[i[0]][i[1]] + 1\n",
        "\n",
        "\n",
        "\n",
        "fp.close()"
      ],
      "execution_count": null,
      "outputs": []
    },
    {
      "cell_type": "code",
      "metadata": {
        "id": "3FT7vPhb7fWK"
      },
      "source": [
        "# Remove direct friends from friend_recommendations (2 POINTS)\n",
        "for i in direct_friends:\n",
        "  for j in direct_friends[i]:\n",
        "    if i in friend_recommendations:\n",
        "      if j in friend_recommendations[i]:\n",
        "        #del friend_recommendations[i][j]\n",
        "        friend_recommendations[i].pop(j)"
      ],
      "execution_count": null,
      "outputs": []
    },
    {
      "cell_type": "code",
      "metadata": {
        "id": "YtZAuGw-7fWM"
      },
      "source": [
        "# Sort recommendations based on number of mutual friends and user IDs here... (3 POINTS)\n",
        "for a in friend_recommendations:\n",
        "  friend_recommendations[a] = sorted(friend_recommendations[a].items(), key=lambda x: (-x[1],x[0]))"
      ],
      "execution_count": null,
      "outputs": []
    },
    {
      "cell_type": "code",
      "metadata": {
        "id": "M6_lhck57fWO",
        "outputId": "fb5f7e87-314e-4094-84ae-860c9bac52a7",
        "colab": {
          "base_uri": "https://localhost:8080/",
          "height": 119
        }
      },
      "source": [
        "# Print recommendations of users 924, 1153, 6712, 8213, 12835, 23478 here (2 POINTS)\n",
        "users = [924, 1153, 6712, 8213, 12835, 23478]\n",
        "for b in users:\n",
        "  print(str(b) + ' : ' + str([item[0] for item in friend_recommendations[b][:10]]))"
      ],
      "execution_count": null,
      "outputs": [
        {
          "output_type": "stream",
          "text": [
            "924 : [439, 2409, 6995, 11860, 15416, 43748, 45881]\n",
            "1153 : [1108, 1132, 1150, 1127, 1117, 1120, 1138, 1143, 1118, 1124]\n",
            "6712 : [6723, 6771, 6756, 6716, 6729, 6748, 6714, 6732, 6717, 6718]\n",
            "8213 : [8217, 106, 558, 1100, 1423, 2081, 2181, 2413, 3117, 3126]\n",
            "12835 : [6140, 1680, 5460, 7018, 8509, 10778, 26905, 35374, 35991, 1787]\n",
            "23478 : [23471, 45481, 557, 2147, 3931, 6455, 6606, 6631, 6634, 6660]\n"
          ],
          "name": "stdout"
        }
      ]
    },
    {
      "cell_type": "code",
      "metadata": {
        "id": "qHLj5OkY7fWS"
      },
      "source": [
        "# Sample recommendation\n",
        "# 11: 27552, 7785, 27573, 27574, 27589, 27590, 27600, 27617, 27620, 27667"
      ],
      "execution_count": null,
      "outputs": []
    }
  ]
}